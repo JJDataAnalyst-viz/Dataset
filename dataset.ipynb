{
 "cells": [
  {
   "cell_type": "code",
   "execution_count": 4,
   "metadata": {},
   "outputs": [],
   "source": [
    "import sympy \n",
    "from sympy import Sum\n"
   ]
  },
  {
   "cell_type": "code",
   "execution_count": 36,
   "metadata": {},
   "outputs": [],
   "source": [
    "yhat , y,i,j,RSS,TSS = sympy.symbols('yhat y i j RSS TSS')"
   ]
  },
  {
   "cell_type": "code",
   "execution_count": 23,
   "metadata": {},
   "outputs": [],
   "source": [
    "MSE = Sum(1/j*(y-yhat)**2,(i,1,j))"
   ]
  },
  {
   "cell_type": "code",
   "execution_count": 28,
   "metadata": {},
   "outputs": [
    {
     "data": {
      "text/latex": [
       "$\\displaystyle \\sum_{i=1}^{j} \\frac{\\left(y - \\hat{y}\\right)^{2}}{j}$"
      ],
      "text/plain": [
       "Sum((y - yhat)**2/j, (i, 1, j))"
      ]
     },
     "execution_count": 28,
     "metadata": {},
     "output_type": "execute_result"
    }
   ],
   "source": [
    "\"MSE :\" ; MSE"
   ]
  },
  {
   "cell_type": "markdown",
   "metadata": {},
   "source": [
    "Advantages : \n",
    "1. Fast convergence\n",
    "2. One local minima an global minima\n",
    "3. Differentiable\n",
    "\n",
    "Disadvantages:\n",
    "1. Not robust to outliers\n",
    "2. It is no longer in the same unit"
   ]
  },
  {
   "cell_type": "code",
   "execution_count": 32,
   "metadata": {},
   "outputs": [],
   "source": [
    "MAE = Sum(1/j*abs(y-yhat),(i,1,j))"
   ]
  },
  {
   "cell_type": "code",
   "execution_count": 33,
   "metadata": {},
   "outputs": [
    {
     "data": {
      "text/latex": [
       "$\\displaystyle \\sum_{i=1}^{j} \\frac{\\left|{y - \\hat{y}}\\right|}{j}$"
      ],
      "text/plain": [
       "Sum(Abs(y - yhat)/j, (i, 1, j))"
      ]
     },
     "execution_count": 33,
     "metadata": {},
     "output_type": "execute_result"
    }
   ],
   "source": [
    "MAE"
   ]
  },
  {
   "cell_type": "markdown",
   "metadata": {},
   "source": [
    "Advantages : \n",
    "1. Robust to outliers\n",
    "2. Same unit as input \n",
    "\n",
    "Disadvantages : \n",
    "1. Optimazation is a complex task\n",
    "2. Time consuming"
   ]
  },
  {
   "cell_type": "code",
   "execution_count": 34,
   "metadata": {},
   "outputs": [],
   "source": [
    "RMSE = sympy.sqrt(MSE)"
   ]
  },
  {
   "cell_type": "code",
   "execution_count": 35,
   "metadata": {},
   "outputs": [
    {
     "data": {
      "text/latex": [
       "$\\displaystyle \\sqrt{\\sum_{i=1}^{j} \\frac{\\left(y - \\hat{y}\\right)^{2}}{j}}$"
      ],
      "text/plain": [
       "sqrt(Sum((y - yhat)**2/j, (i, 1, j)))"
      ]
     },
     "execution_count": 35,
     "metadata": {},
     "output_type": "execute_result"
    }
   ],
   "source": [
    "RMSE"
   ]
  },
  {
   "cell_type": "markdown",
   "metadata": {},
   "source": [
    "Advantages:\n",
    "1. Same unit\n",
    "2. Differentiable\n",
    "\n",
    "\n",
    "Disadvantages:\n",
    "1. Not robust to outliers"
   ]
  },
  {
   "cell_type": "code",
   "execution_count": 39,
   "metadata": {},
   "outputs": [],
   "source": [
    "R2 = 1 - (RSS/TSS)"
   ]
  },
  {
   "cell_type": "code",
   "execution_count": 40,
   "metadata": {},
   "outputs": [
    {
     "data": {
      "text/latex": [
       "$\\displaystyle - \\frac{RSS}{TSS} + 1$"
      ],
      "text/plain": [
       "-RSS/TSS + 1"
      ]
     },
     "execution_count": 40,
     "metadata": {},
     "output_type": "execute_result"
    }
   ],
   "source": [
    "R2"
   ]
  },
  {
   "cell_type": "code",
   "execution_count": null,
   "metadata": {},
   "outputs": [],
   "source": []
  }
 ],
 "metadata": {
  "kernelspec": {
   "display_name": "data",
   "language": "python",
   "name": "python3"
  },
  "language_info": {
   "codemirror_mode": {
    "name": "ipython",
    "version": 3
   },
   "file_extension": ".py",
   "mimetype": "text/x-python",
   "name": "python",
   "nbconvert_exporter": "python",
   "pygments_lexer": "ipython3",
   "version": "3.12.4"
  }
 },
 "nbformat": 4,
 "nbformat_minor": 2
}
